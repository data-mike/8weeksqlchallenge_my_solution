{
 "cells": [
  {
   "cell_type": "markdown",
   "metadata": {},
   "source": [
    "# Using SQL to Answer Business Questions\n",
    "\n",
    "Goal: To demonstrate the use of sql (mysql) to query database to answer business questions.\n",
    "The database in question is from a company involved in 'Food and Beverage Industry'.\n",
    "\n",
    "<font color='Green'>Note</font>:\n",
    "- The questions and database are part of the *8weeksqlchallenge*. Get to know more on this [Link](https://8weeksqlchallenge.com/case-study-1/)\n",
    "- To connect to the database, replace \" config['host'],config['password']['lrng'], config['user'][0],config['database'][0] \" with the name of your mysql server, password, user, and database respectively. These parameters are supplied in this project from a configuration file. Read more [Link](https://towardsdatascience.com/from-novice-to-expert-how-to-write-a-configuration-file-in-python-273e171a8eb3#:~:text=A%20good%20configuration%20file%20should,be%20only%20read%20by%20developers.)"
   ]
  },
  {
   "cell_type": "code",
   "execution_count": 32,
   "metadata": {},
   "outputs": [
    {
     "name": "stdout",
     "output_type": "stream",
     "text": [
      "<mysql.connector.connection_cext.CMySQLConnection object at 0x7f7f5ac2a370>\n"
     ]
    }
   ],
   "source": [
    "import mysql.connector\n",
    "from access import config   # using python config.py method to input access codes and protect password\n",
    "conn_ = mysql.connector.connect(\n",
    "    host = config['host'],\n",
    "    password = config['password']['lrng'], \n",
    "    user= config['user'][0],\n",
    "    database = config['database'][0])\n",
    "print(conn_)"
   ]
  },
  {
   "cell_type": "markdown",
   "metadata": {},
   "source": [
    "## Checking the Tables In the Database\n",
    "\n",
    "- To check the tables in the database, use :\n",
    "    - connect.cursor() method to instatiate a cursor instance through which you access the database\n",
    "    - cursor.execute() method to execute the sql query\n",
    "    - use any of cursor.fetchall(), cursor.fetchone() or cursor.fetchmany() to access the output of the query"
   ]
  },
  {
   "cell_type": "code",
   "execution_count": 33,
   "metadata": {},
   "outputs": [
    {
     "name": "stdout",
     "output_type": "stream",
     "text": [
      "[('members',), ('menu',), ('sales',)]\n"
     ]
    }
   ],
   "source": [
    "\n",
    "\n",
    "cur_ = conn_.cursor()\n",
    "cur_.execute(\"show tables\")\n",
    "\n",
    "myresult = cur_.fetchall()      # fetchall() is used to fetch all output from the query\n",
    "print(myresult)"
   ]
  },
  {
   "cell_type": "code",
   "execution_count": 34,
   "metadata": {},
   "outputs": [
    {
     "data": {
      "text/plain": [
       "[('customer_id', b'varchar(1)', 'YES', '', None, ''),\n",
       " ('join_date', b'date', 'YES', '', None, '')]"
      ]
     },
     "execution_count": 34,
     "metadata": {},
     "output_type": "execute_result"
    }
   ],
   "source": [
    "cur_.execute(\"desc members\")\n",
    "members_desc = cur_.fetchall()\n",
    "members_desc"
   ]
  },
  {
   "cell_type": "code",
   "execution_count": 35,
   "metadata": {},
   "outputs": [
    {
     "data": {
      "text/plain": [
       "[('product_id', b'int', 'YES', '', None, ''),\n",
       " ('product_name', b'varchar(5)', 'YES', '', None, ''),\n",
       " ('price', b'int', 'YES', '', None, '')]"
      ]
     },
     "execution_count": 35,
     "metadata": {},
     "output_type": "execute_result"
    }
   ],
   "source": [
    "cur_.execute(\"desc menu\")\n",
    "menu_desc = cur_.fetchall()\n",
    "menu_desc"
   ]
  },
  {
   "cell_type": "code",
   "execution_count": 36,
   "metadata": {},
   "outputs": [
    {
     "data": {
      "text/plain": [
       "[('customer_id', b'varchar(1)', 'YES', '', None, ''),\n",
       " ('order_date', b'date', 'YES', '', None, ''),\n",
       " ('product_id', b'int', 'YES', '', None, '')]"
      ]
     },
     "execution_count": 36,
     "metadata": {},
     "output_type": "execute_result"
    }
   ],
   "source": [
    "cur_.execute(\"desc sales\")\n",
    "sales_desc = cur_.fetchall()\n",
    "sales_desc"
   ]
  },
  {
   "cell_type": "markdown",
   "metadata": {},
   "source": [
    "# Answering Business Questions"
   ]
  },
  {
   "cell_type": "markdown",
   "metadata": {},
   "source": [
    "### 1. What is the total amount each customer spent at the restaurant?"
   ]
  },
  {
   "cell_type": "code",
   "execution_count": 39,
   "metadata": {},
   "outputs": [
    {
     "name": "stdout",
     "output_type": "stream",
     "text": [
      "('C', Decimal('36'))\n",
      "('B', Decimal('74'))\n",
      "('A', Decimal('76'))\n"
     ]
    }
   ],
   "source": [
    "query_ = ''' \n",
    "SELECT s.customer_id, SUM(m.price) total_spent_cust\n",
    "FROM sales s\n",
    "LEFT JOIN menu m\n",
    "ON s.product_id = m.product_id\n",
    "GROUP BY s.customer_id\n",
    "ORDER BY sum(m.price) asc\n",
    "'''\n",
    "\n",
    "cur_.execute(query_)\n",
    "total_spent_per_customer = cur_.fetchall()\n",
    "for x in total_spent_per_customer:\n",
    "    print(x)"
   ]
  },
  {
   "cell_type": "markdown",
   "metadata": {},
   "source": [
    "### 2. How many days has each customer visited the restaurant?"
   ]
  },
  {
   "cell_type": "code",
   "execution_count": 43,
   "metadata": {},
   "outputs": [
    {
     "name": "stdout",
     "output_type": "stream",
     "text": [
      "('A', 4)\n",
      "('B', 6)\n",
      "('C', 2)\n"
     ]
    }
   ],
   "source": [
    "query_ = '''\n",
    "SELECT customer_id, COUNT( DISTINCT order_date) days_cust_visit\n",
    "FROM sales\n",
    "GROUP BY 1\n",
    "'''\n",
    "cur_.execute(query_)\n",
    "total_days_visit_per_cust = cur_.fetchall()\n",
    "for x in total_days_visit_per_cust:\n",
    "    print(x)"
   ]
  },
  {
   "cell_type": "markdown",
   "metadata": {},
   "source": [
    "### 3. What was the first item from the menu purchased by each customer?\n",
    "\n",
    "To answer this question, we are going to use <font color ='red'>**correlated subqueries** </font>."
   ]
  },
  {
   "cell_type": "code",
   "execution_count": 45,
   "metadata": {},
   "outputs": [
    {
     "data": {
      "text/plain": [
       "[('A', 'sushi'),\n",
       " ('A', 'curry'),\n",
       " ('B', 'curry'),\n",
       " ('C', 'ramen'),\n",
       " ('C', 'ramen')]"
      ]
     },
     "execution_count": 45,
     "metadata": {},
     "output_type": "execute_result"
    }
   ],
   "source": [
    "query_ = '''\n",
    "SELECT s.customer_id, m.product_name\n",
    "FROM sales s\n",
    "LEFT join menu m\n",
    "ON s.product_id = m.product_id\n",
    "WHERE s.order_date = ( \n",
    "    SELECT min(s1.order_date) \n",
    "    FROM sales s1\n",
    "    WHERE s.customer_id = s1.customer_id)\n",
    "'''\n",
    "\n",
    "cur_.execute(query_)\n",
    "\n",
    "fim_purchase_per_cust = cur_.fetchall()\n",
    "fim_purchase_per_cust"
   ]
  },
  {
   "cell_type": "markdown",
   "metadata": {},
   "source": [
    "### 4. What is the most purchased item on the menu and how many times was it purchased by all customers?"
   ]
  },
  {
   "cell_type": "code",
   "execution_count": 48,
   "metadata": {},
   "outputs": [
    {
     "name": "stdout",
     "output_type": "stream",
     "text": [
      "('A', 'ramen', 3)\n",
      "('B', 'ramen', 2)\n",
      "('C', 'ramen', 3)\n"
     ]
    }
   ],
   "source": [
    "query_ = '''\n",
    "SELECT s.customer_id, m.product_name, COUNT(s.customer_id)\n",
    "FROM sales s\n",
    "LEFT JOIN menu m\n",
    "ON s.product_id = m.product_id\n",
    "WHERE s.product_id = \n",
    "( \n",
    "    SELECT product_id\n",
    "    FROM\n",
    "        ( \n",
    "            SELECT product_id, COUNT(product_id) counts\n",
    "            FROM sales\n",
    "            GROUP BY product_id\n",
    "        ) s1\n",
    "        WHERE counts = \n",
    "        (\n",
    "            SELECT MAX(counts)\n",
    "            FROM \n",
    "            (\n",
    "                SELECT product_id, COUNT(product_id) counts \n",
    "                FROM sales\n",
    "                GROUP BY product_id\n",
    "            ) s2\n",
    "        )\n",
    ")\n",
    "GROUP BY 1,2\n",
    "'''\n",
    "# s2 subquery is used to generate the product_id with the maximum counts\n",
    "# s1 subquery is used to isolate the aggregated counts for each product_id which is then compared to the max(counts) to \n",
    "# isolate the product_id with the max_counts\n",
    "\n",
    "cur_.execute(query_)\n",
    "mpi_menu_purchase_per_cust = cur_.fetchall()\n",
    "for x in mpi_menu_purchase_per_cust:\n",
    "    print(x)"
   ]
  },
  {
   "cell_type": "markdown",
   "metadata": {},
   "source": [
    "### 5. Which item was the most popular for each customer?\n",
    "\n",
    "using uncorrelated subqueries to answer business questions"
   ]
  },
  {
   "cell_type": "code",
   "execution_count": 49,
   "metadata": {},
   "outputs": [
    {
     "name": "stdout",
     "output_type": "stream",
     "text": [
      "('A', 'ramen', 3)\n",
      "('B', 'curry', 2)\n",
      "('B', 'sushi', 2)\n",
      "('B', 'ramen', 2)\n",
      "('C', 'ramen', 3)\n"
     ]
    }
   ],
   "source": [
    "query_ = '''\n",
    "SELECT s.customer_id, m.product_name, COUNT(s.customer_id)\n",
    "FROM sales s\n",
    "LEFT JOIN menu m\n",
    "ON s.product_id = m.product_id\n",
    "WHERE m.product_name = ANY \n",
    "(\n",
    "    SELECT product_name\n",
    "    FROM \n",
    "    (\n",
    "        SELECT  m.product_name, COUNT(m.product_name) counts\n",
    "        FROM sales s1\n",
    "        LEFT JOIN menu m\n",
    "        ON s1.product_id = m.product_id\n",
    "        WHERE s.customer_id = s1.customer_id\n",
    "        GROUP BY 1\n",
    "    ) prdt1\n",
    "    WHERE counts = \n",
    "    (\n",
    "        SELECT max(counts)\n",
    "        FROM \n",
    "        (\n",
    "            SELECT m.product_name, COUNT(m.product_name) counts\n",
    "            FROM sales s1\n",
    "            LEFT JOIN menu m\n",
    "            ON s1.product_id = m.product_id\n",
    "            WHERE s.customer_id = s1.customer_id\n",
    "            GROUP BY 1\n",
    "        ) prdt1\n",
    "\n",
    "    ) \n",
    ")\n",
    "GROUP BY 1,2\n",
    "'''\n",
    "\n",
    "# 'prdt1' is an uncorrelated subquery used to compute the product_name with the max counts for each customer\n",
    "\n",
    "cur_.execute(query_)\n",
    "\n",
    "mpi_each_cust = cur_.fetchall()\n",
    "for x in mpi_each_cust:\n",
    "    print(x)"
   ]
  },
  {
   "cell_type": "markdown",
   "metadata": {},
   "source": [
    "###  6. Which item was purchased first by the customer after they became a member?\n",
    "\n",
    "Using the rank() function with the window function (mysql) to answer business question:\n",
    "- we use rank() to number the purchase by each customer based on the date the items were procured"
   ]
  },
  {
   "cell_type": "code",
   "execution_count": 50,
   "metadata": {},
   "outputs": [
    {
     "data": {
      "text/plain": [
       "[('A', 'curry', datetime.date(2021, 1, 7), datetime.date(2021, 1, 7), 1),\n",
       " ('B', 'sushi', datetime.date(2021, 1, 9), datetime.date(2021, 1, 11), 1)]"
      ]
     },
     "execution_count": 50,
     "metadata": {},
     "output_type": "execute_result"
    }
   ],
   "source": [
    "query_ = '''\n",
    "SELECT *\n",
    "FROM\n",
    "(\n",
    "    SELECT s.customer_id, m.product_name , m_.join_date, s.order_date,\n",
    "    rank() over (partition by s.customer_id order by s.order_date) as position\n",
    "    FROM sales s\n",
    "    LEFT JOIN menu m\n",
    "    ON s.product_id = m.product_id\n",
    "    LEFT JOIN members m_\n",
    "    ON s.customer_id = m_.customer_id\n",
    "    WHERE s.order_date >= m_.join_date\n",
    ") customer_join_first_purchase\n",
    "WHERE position = 1\n",
    "'''\n",
    "\n",
    "cur_.execute(query_)\n",
    "\n",
    "ip_cust_after_member = cur_.fetchall()\n",
    "\n",
    "ip_cust_after_member"
   ]
  },
  {
   "cell_type": "markdown",
   "metadata": {},
   "source": [
    "### 7. Which item was purchased just before the customer became a member?"
   ]
  },
  {
   "cell_type": "code",
   "execution_count": 51,
   "metadata": {},
   "outputs": [
    {
     "data": {
      "text/plain": [
       "[('A', 'sushi', datetime.date(2021, 1, 7), datetime.date(2021, 1, 1), 1),\n",
       " ('A', 'curry', datetime.date(2021, 1, 7), datetime.date(2021, 1, 1), 1),\n",
       " ('B', 'sushi', datetime.date(2021, 1, 9), datetime.date(2021, 1, 4), 1)]"
      ]
     },
     "execution_count": 51,
     "metadata": {},
     "output_type": "execute_result"
    }
   ],
   "source": [
    "\n",
    "\n",
    "query_ = '''\n",
    "SELECT *\n",
    "FROM \n",
    "(\n",
    "    SELECT s.customer_id, m.product_name , m_.join_date, s.order_date,\n",
    "        rank() over (partition by s.customer_id order by s.order_date desc) as position\n",
    "    FROM sales s\n",
    "    LEFT JOIN menu m\n",
    "    ON s.product_id = m.product_id\n",
    "    LEFT JOIN members m_\n",
    "    ON s.customer_id = m_.customer_id\n",
    "    WHERE s.order_date < m_.join_date\n",
    ") customer_join_first_purchase\n",
    "where position = 1\n",
    "'''\n",
    "\n",
    "cur_.execute(query_)\n",
    "\n",
    "ip_cust_before_member = cur_.fetchall()\n",
    "ip_cust_before_member"
   ]
  },
  {
   "cell_type": "markdown",
   "metadata": {},
   "source": [
    "### 8. What is the total items and amount spent for each member before they became a member?\n",
    "\n",
    "You can also use \"USING\" keyword insted of \"ON\" keyword when join columns with identical names.\n",
    " \n",
    "Note: that the common column name must be in parenthesis. \"USING\" keyword works only in mysql"
   ]
  },
  {
   "cell_type": "code",
   "execution_count": 53,
   "metadata": {},
   "outputs": [
    {
     "name": "stdout",
     "output_type": "stream",
     "text": [
      "('A', 2, Decimal('25'))\n",
      "('B', 3, Decimal('40'))\n"
     ]
    }
   ],
   "source": [
    "query_ = '''\n",
    "SELECT s.customer_id, count(s.product_id) total_item, sum(m.price) amount_spent\n",
    "FROM sales s\n",
    "LEFT JOIN menu m\n",
    "USING (product_id)\n",
    "LEFT JOIN members m_\n",
    "USING (customer_id)\n",
    "WHERE s.order_date < m_.join_date\n",
    "GROUP BY 1\n",
    "'''\n",
    "\n",
    "cur_.execute(query_)\n",
    "\n",
    "total_items_amount_per_cust_before_member = cur_.fetchall()\n",
    "for x in total_items_amount_per_cust_before_member:\n",
    "    print(x)"
   ]
  },
  {
   "cell_type": "markdown",
   "metadata": {},
   "source": [
    "### 10. In the first week after a customer joins the program (including their join date) they earn 2x points on all items, not just sushi - how many points do customer A and B have at the end of January?\n",
    "\n",
    "- Using conditional statement \"<font color='red'>**CASE**</font>\", sets, and subqueries to answer business questions.\n",
    "    - To answer the question above, we will use:\n",
    "        1. \"CASE\" clause to create 2 (two) columns based on join_date/order_date and sushi/other items\n",
    "        2. \"UNION\" clause to join records matching the prerequiste criteria"
   ]
  },
  {
   "cell_type": "code",
   "execution_count": 55,
   "metadata": {},
   "outputs": [
    {
     "name": "stdout",
     "output_type": "stream",
     "text": [
      "('A', Decimal('1130'), 'January')\n",
      "('B', Decimal('820'), 'January')\n"
     ]
    }
   ],
   "source": [
    "query_ = '''\n",
    "SELECT customer_id, sum(points) total_points, MONTHNAME(order_date) month_\n",
    "FROM \n",
    "(\n",
    "    SELECT * \n",
    "    FROM \n",
    "    (\n",
    "        SELECT s.customer_id, m.price, m.product_name, s.order_date, m_.join_date, \n",
    "        CASE \n",
    "        WHEN s.order_date BETWEEN m_.join_date AND DATE_ADD(m_.join_date, interval 6 day) THEN 1\n",
    "        ELSE 0\n",
    "        END AS cond_date ,\n",
    "        CASE\n",
    "        WHEN s.order_date BETWEEN m_.join_date AND DATE_ADD(m_.join_date, interval 6 day) THEN m.price *10*2\n",
    "        ELSE 0\n",
    "        END AS points\n",
    "        FROM sales s\n",
    "        LEFT JOIN menu m ON s.product_id = m.product_id\n",
    "        LEFT JOIN members m_ ON s.customer_id = m_.customer_id\n",
    "    ) date_cond\n",
    "    WHERE cond_date = 1\n",
    "    UNION\n",
    "    SELECT *\n",
    "    FROM \n",
    "    (\n",
    "        SELECT s.customer_id,m.price, m.product_name, s.order_date, m_.join_date,\n",
    "        CASE\n",
    "        WHEN s.order_date < m_.join_date OR s.order_date > DATE_ADD(m_.join_date, interval 6 day) THEN 2\n",
    "        ELSE 0\n",
    "        END AS cond_date ,\n",
    "        CASE\n",
    "        WHEN m.product_name = 'sushi' THEN m.price * 10 * 2\n",
    "        ELSE m.price * 10\n",
    "        END AS points\n",
    "        FROM sales s\n",
    "        LEFT JOIN menu m ON s.product_id = m.product_id\n",
    "        LEFT JOIN members m_ ON s.customer_id = m_.customer_id\n",
    "    ) date_cond\n",
    "    WHERE cond_date = 2\n",
    ") first_week_sushi_filter\n",
    "WHERE MONTHNAME(order_date) = 'January'\n",
    "GROUP BY 1,3\n",
    "'''\n",
    "\n",
    "cur_.execute(query_)\n",
    "\n",
    "points_based_week_join_sushi = cur_.fetchall()\n",
    "for x in points_based_week_join_sushi:\n",
    "    print(x)"
   ]
  },
  {
   "cell_type": "markdown",
   "metadata": {},
   "source": [
    "Based on the result of our query, customer 'A' has 1130 points and customer 'B' has 820 points"
   ]
  }
 ],
 "metadata": {
  "interpreter": {
   "hash": "b374a646a46746b5ef3d577aa7ab9754d62da9746329b04e3971ce9ee9b94d25"
  },
  "kernelspec": {
   "display_name": "Python 3.9.5 64-bit ('myenv': conda)",
   "language": "python",
   "name": "python3"
  },
  "language_info": {
   "codemirror_mode": {
    "name": "ipython",
    "version": 3
   },
   "file_extension": ".py",
   "mimetype": "text/x-python",
   "name": "python",
   "nbconvert_exporter": "python",
   "pygments_lexer": "ipython3",
   "version": "3.9.5"
  },
  "orig_nbformat": 4
 },
 "nbformat": 4,
 "nbformat_minor": 2
}
